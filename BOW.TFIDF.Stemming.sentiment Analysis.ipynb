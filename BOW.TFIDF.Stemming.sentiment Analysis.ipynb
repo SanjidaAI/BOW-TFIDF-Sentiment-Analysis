{
 "cells": [
  {
   "cell_type": "markdown",
   "id": "1a896b0e-fbbc-4b71-abfd-2acb6f1f2284",
   "metadata": {},
   "source": [
    "# Text Preprocessing using Bag of Words, TF-IDF, Stemming, Lemmatization, and Stopword Removal"
   ]
  },
  {
   "cell_type": "code",
   "execution_count": 41,
   "id": "40f05684-0ed5-4c86-a034-edf5118c5439",
   "metadata": {},
   "outputs": [],
   "source": [
    "corpus = \"\"\"\n",
    "Professor Muhammad Yunus was born on June 28, 1940. He is the founder and managing director of Grameen Bank, which pioneered microcredit. This is a\n",
    "method of banking where small loans are given to the poor, mostly to women, without collateral, for income-generating activities, to help them get out \n",
    "of poverty.\n",
    "\n",
    "The third of nine children, Prof Yunus was born in the village of Bathua, Chittagong. His father was Haji Muhammad Dula Mia Shawdagar, a jeweller, and\n",
    "his mother was Sofia Khatun.\n",
    "\n",
    "\"\"\""
   ]
  },
  {
   "cell_type": "code",
   "execution_count": 42,
   "id": "6990e97e-3e47-4969-b21d-43ca086516db",
   "metadata": {},
   "outputs": [
    {
     "name": "stdout",
     "output_type": "stream",
     "text": [
      "Defaulting to user installation because normal site-packages is not writeable\n",
      "Requirement already satisfied: nltk in c:\\users\\asus\\appdata\\roaming\\python\\python313\\site-packages (3.9.2)\n",
      "Requirement already satisfied: click in c:\\users\\asus\\appdata\\roaming\\python\\python313\\site-packages (from nltk) (8.2.1)\n",
      "Requirement already satisfied: joblib in c:\\users\\asus\\appdata\\roaming\\python\\python313\\site-packages (from nltk) (1.5.1)\n",
      "Requirement already satisfied: regex>=2021.8.3 in c:\\users\\asus\\appdata\\roaming\\python\\python313\\site-packages (from nltk) (2025.10.23)\n",
      "Requirement already satisfied: tqdm in c:\\users\\asus\\appdata\\roaming\\python\\python313\\site-packages (from nltk) (4.67.1)\n",
      "Requirement already satisfied: colorama in c:\\users\\asus\\appdata\\roaming\\python\\python313\\site-packages (from click->nltk) (0.4.6)\n"
     ]
    }
   ],
   "source": [
    "!pip install nltk"
   ]
  },
  {
   "cell_type": "code",
   "execution_count": 43,
   "id": "67934aa9-66d3-42e8-bea8-f1ed7da93616",
   "metadata": {},
   "outputs": [
    {
     "name": "stderr",
     "output_type": "stream",
     "text": [
      "[nltk_data] Downloading package punkt to\n",
      "[nltk_data]     C:\\Users\\ASUS\\AppData\\Roaming\\nltk_data...\n",
      "[nltk_data]   Package punkt is already up-to-date!\n",
      "[nltk_data] Downloading package punkt_tab to\n",
      "[nltk_data]     C:\\Users\\ASUS\\AppData\\Roaming\\nltk_data...\n",
      "[nltk_data]   Package punkt_tab is already up-to-date!\n"
     ]
    },
    {
     "data": {
      "text/plain": [
       "True"
      ]
     },
     "execution_count": 43,
     "metadata": {},
     "output_type": "execute_result"
    }
   ],
   "source": [
    "import nltk\n",
    "nltk.download('punkt')\n",
    "nltk.download('punkt_tab')"
   ]
  },
  {
   "cell_type": "code",
   "execution_count": 44,
   "id": "97d0741e-043e-4413-855f-f012edb1548d",
   "metadata": {},
   "outputs": [],
   "source": [
    "# Tokenizer"
   ]
  },
  {
   "cell_type": "code",
   "execution_count": 45,
   "id": "21083332-3a9c-4275-9e76-c281e20519eb",
   "metadata": {},
   "outputs": [
    {
     "data": {
      "text/plain": [
       "['\\nProfessor Muhammad Yunus was born on June 28, 1940.',\n",
       " 'He is the founder and managing director of Grameen Bank, which pioneered microcredit.',\n",
       " 'This is a\\nmethod of banking where small loans are given to the poor, mostly to women, without collateral, for income-generating activities, to help them get out \\nof poverty.',\n",
       " 'The third of nine children, Prof Yunus was born in the village of Bathua, Chittagong.',\n",
       " 'His father was Haji Muhammad Dula Mia Shawdagar, a jeweller, and\\nhis mother was Sofia Khatun.']"
      ]
     },
     "execution_count": 45,
     "metadata": {},
     "output_type": "execute_result"
    }
   ],
   "source": [
    "#Sentence Tokenizer\n",
    "sentences = nltk.sent_tokenize(corpus)\n",
    "sentences"
   ]
  },
  {
   "cell_type": "code",
   "execution_count": 46,
   "id": "09500af2-bd2f-4d29-95a1-283f749dc21a",
   "metadata": {},
   "outputs": [
    {
     "data": {
      "text/plain": [
       "['Professor',\n",
       " 'Muhammad',\n",
       " 'Yunus',\n",
       " 'was',\n",
       " 'born',\n",
       " 'on',\n",
       " 'June',\n",
       " '28',\n",
       " ',',\n",
       " '1940',\n",
       " '.',\n",
       " 'He',\n",
       " 'is',\n",
       " 'the',\n",
       " 'founder',\n",
       " 'and',\n",
       " 'managing',\n",
       " 'director',\n",
       " 'of',\n",
       " 'Grameen',\n",
       " 'Bank',\n",
       " ',',\n",
       " 'which',\n",
       " 'pioneered',\n",
       " 'microcredit',\n",
       " '.',\n",
       " 'This',\n",
       " 'is',\n",
       " 'a',\n",
       " 'method',\n",
       " 'of',\n",
       " 'banking',\n",
       " 'where',\n",
       " 'small',\n",
       " 'loans',\n",
       " 'are',\n",
       " 'given',\n",
       " 'to',\n",
       " 'the',\n",
       " 'poor',\n",
       " ',',\n",
       " 'mostly',\n",
       " 'to',\n",
       " 'women',\n",
       " ',',\n",
       " 'without',\n",
       " 'collateral',\n",
       " ',',\n",
       " 'for',\n",
       " 'income-generating',\n",
       " 'activities',\n",
       " ',',\n",
       " 'to',\n",
       " 'help',\n",
       " 'them',\n",
       " 'get',\n",
       " 'out',\n",
       " 'of',\n",
       " 'poverty',\n",
       " '.',\n",
       " 'The',\n",
       " 'third',\n",
       " 'of',\n",
       " 'nine',\n",
       " 'children',\n",
       " ',',\n",
       " 'Prof',\n",
       " 'Yunus',\n",
       " 'was',\n",
       " 'born',\n",
       " 'in',\n",
       " 'the',\n",
       " 'village',\n",
       " 'of',\n",
       " 'Bathua',\n",
       " ',',\n",
       " 'Chittagong',\n",
       " '.',\n",
       " 'His',\n",
       " 'father',\n",
       " 'was',\n",
       " 'Haji',\n",
       " 'Muhammad',\n",
       " 'Dula',\n",
       " 'Mia',\n",
       " 'Shawdagar',\n",
       " ',',\n",
       " 'a',\n",
       " 'jeweller',\n",
       " ',',\n",
       " 'and',\n",
       " 'his',\n",
       " 'mother',\n",
       " 'was',\n",
       " 'Sofia',\n",
       " 'Khatun',\n",
       " '.']"
      ]
     },
     "execution_count": 46,
     "metadata": {},
     "output_type": "execute_result"
    }
   ],
   "source": [
    "#word tokenize\n",
    "nltk.word_tokenize(corpus)"
   ]
  },
  {
   "cell_type": "code",
   "execution_count": 47,
   "id": "fcfbe0f4-0164-47f3-b878-6b76448e6b8c",
   "metadata": {},
   "outputs": [],
   "source": [
    "# Token Normalizing / Data Cleaning"
   ]
  },
  {
   "cell_type": "code",
   "execution_count": 48,
   "id": "9ac62de6-07aa-47f4-be02-a5c4bb1b6baa",
   "metadata": {},
   "outputs": [],
   "source": [
    "# Stemming"
   ]
  },
  {
   "cell_type": "code",
   "execution_count": 49,
   "id": "b56b92bb-f019-4ed5-add5-5ce7e198f5c0",
   "metadata": {},
   "outputs": [],
   "source": [
    "from nltk.stem import PorterStemmer\n",
    "import re"
   ]
  },
  {
   "cell_type": "code",
   "execution_count": 50,
   "id": "14e4f6f6-2b75-4fa2-8ba3-e7340bbbfd9c",
   "metadata": {},
   "outputs": [],
   "source": [
    "stemmer = PorterStemmer()"
   ]
  },
  {
   "cell_type": "code",
   "execution_count": 51,
   "id": "7a45d0ae-f141-4f08-9b72-bad4b07da5fd",
   "metadata": {},
   "outputs": [],
   "source": [
    "sentences = nltk.sent_tokenize(corpus)"
   ]
  },
  {
   "cell_type": "code",
   "execution_count": 52,
   "id": "42a88239-df34-45d3-a95f-641aca0934a9",
   "metadata": {},
   "outputs": [
    {
     "name": "stdout",
     "output_type": "stream",
     "text": [
      "['professor muhammad yunu wa born on june 28 1940', 'he is the founder and manag director of grameen bank which pioneer microcredit', 'thi is a method of bank where small loan are given to the poor mostli to women without collater for incom gener activ to help them get out of poverti', 'the third of nine children prof yunu wa born in the villag of bathua chittagong', 'hi father wa haji muhammad dula mia shawdagar a jewel and hi mother wa sofia khatun']\n"
     ]
    }
   ],
   "source": [
    "stem_sentences = []\n",
    "for i in range(len(sentences)):\n",
    "    text = re.sub('[^a-zA-Z0-9]', ' ', sentences[i])\n",
    "    text = text.lower()\n",
    "    words = nltk.word_tokenize(text)\n",
    "    words = [stemmer.stem(word) for word in words]\n",
    "    stem_sentences.append(' '.join(words))\n",
    "print(stem_sentences)"
   ]
  },
  {
   "cell_type": "code",
   "execution_count": 53,
   "id": "cfaf0c3b-b6b8-4c05-a16d-bd25fef9a7bc",
   "metadata": {},
   "outputs": [],
   "source": [
    "# Lemmatization"
   ]
  },
  {
   "cell_type": "code",
   "execution_count": 54,
   "id": "59de48be-697c-4e47-95eb-2afbcc483103",
   "metadata": {},
   "outputs": [
    {
     "name": "stderr",
     "output_type": "stream",
     "text": [
      "[nltk_data] Downloading package wordnet to\n",
      "[nltk_data]     C:\\Users\\ASUS\\AppData\\Roaming\\nltk_data...\n",
      "[nltk_data]   Package wordnet is already up-to-date!\n"
     ]
    },
    {
     "data": {
      "text/plain": [
       "True"
      ]
     },
     "execution_count": 54,
     "metadata": {},
     "output_type": "execute_result"
    }
   ],
   "source": [
    "from nltk.stem import WordNetLemmatizer\n",
    "nltk.download('wordnet')"
   ]
  },
  {
   "cell_type": "code",
   "execution_count": 55,
   "id": "29555d38-e3de-4c0d-9a23-9b80a8dffa8b",
   "metadata": {},
   "outputs": [],
   "source": [
    "lemmatizer = WordNetLemmatizer()"
   ]
  },
  {
   "cell_type": "code",
   "execution_count": 56,
   "id": "f52d62c1-edba-401a-90f3-47bfd9f6b5b8",
   "metadata": {},
   "outputs": [
    {
     "name": "stdout",
     "output_type": "stream",
     "text": [
      "['professor muhammad yunus wa born on june 28 1940', 'he is the founder and managing director of grameen bank which pioneered microcredit', 'this is a method of banking where small loan are given to the poor mostly to woman without collateral for income generating activity to help them get out of poverty', 'the third of nine child prof yunus wa born in the village of bathua chittagong', 'his father wa haji muhammad dula mia shawdagar a jeweller and his mother wa sofia khatun']\n"
     ]
    }
   ],
   "source": [
    "sentence_lem = []\n",
    "for i in range(len(sentences)):\n",
    "    text = re.sub('[^a-zA-Z0-9]', ' ', sentences[i])\n",
    "    text = text.lower()\n",
    "    words = nltk.word_tokenize(text)\n",
    "    words = [lemmatizer.lemmatize(word) for word in words]\n",
    "    sentence_lem.append(' '.join(words))\n",
    "print(sentence_lem)"
   ]
  },
  {
   "cell_type": "code",
   "execution_count": 57,
   "id": "67086983-98c5-4d26-a351-59944809e499",
   "metadata": {},
   "outputs": [],
   "source": [
    "# Stopwords Removal"
   ]
  },
  {
   "cell_type": "code",
   "execution_count": 58,
   "id": "dc1e1f68-cfe5-40c3-b5ff-c39ca06760be",
   "metadata": {},
   "outputs": [
    {
     "name": "stderr",
     "output_type": "stream",
     "text": [
      "[nltk_data] Downloading package stopwords to\n",
      "[nltk_data]     C:\\Users\\ASUS\\AppData\\Roaming\\nltk_data...\n",
      "[nltk_data]   Package stopwords is already up-to-date!\n"
     ]
    },
    {
     "data": {
      "text/plain": [
       "True"
      ]
     },
     "execution_count": 58,
     "metadata": {},
     "output_type": "execute_result"
    }
   ],
   "source": [
    "nltk.download('stopwords')"
   ]
  },
  {
   "cell_type": "code",
   "execution_count": 59,
   "id": "24a934c7-d068-450a-89f8-3913230641ac",
   "metadata": {},
   "outputs": [],
   "source": [
    "from nltk.corpus import stopwords"
   ]
  },
  {
   "cell_type": "code",
   "execution_count": 60,
   "id": "9adf145f-6ad5-4a9b-8c37-a5d339102bfa",
   "metadata": {},
   "outputs": [],
   "source": [
    "stop_words = stopwords.words('english')"
   ]
  },
  {
   "cell_type": "code",
   "execution_count": 61,
   "id": "6ed31af2-4ca6-4c60-8d05-8ae2fa02b391",
   "metadata": {},
   "outputs": [
    {
     "data": {
      "text/plain": [
       "['a',\n",
       " 'about',\n",
       " 'above',\n",
       " 'after',\n",
       " 'again',\n",
       " 'against',\n",
       " 'ain',\n",
       " 'all',\n",
       " 'am',\n",
       " 'an',\n",
       " 'and',\n",
       " 'any',\n",
       " 'are',\n",
       " 'aren',\n",
       " \"aren't\",\n",
       " 'as',\n",
       " 'at',\n",
       " 'be',\n",
       " 'because',\n",
       " 'been',\n",
       " 'before',\n",
       " 'being',\n",
       " 'below',\n",
       " 'between',\n",
       " 'both',\n",
       " 'but',\n",
       " 'by',\n",
       " 'can',\n",
       " 'couldn',\n",
       " \"couldn't\",\n",
       " 'd',\n",
       " 'did',\n",
       " 'didn',\n",
       " \"didn't\",\n",
       " 'do',\n",
       " 'does',\n",
       " 'doesn',\n",
       " \"doesn't\",\n",
       " 'doing',\n",
       " 'don',\n",
       " \"don't\",\n",
       " 'down',\n",
       " 'during',\n",
       " 'each',\n",
       " 'few',\n",
       " 'for',\n",
       " 'from',\n",
       " 'further',\n",
       " 'had',\n",
       " 'hadn',\n",
       " \"hadn't\",\n",
       " 'has',\n",
       " 'hasn',\n",
       " \"hasn't\",\n",
       " 'have',\n",
       " 'haven',\n",
       " \"haven't\",\n",
       " 'having',\n",
       " 'he',\n",
       " \"he'd\",\n",
       " \"he'll\",\n",
       " 'her',\n",
       " 'here',\n",
       " 'hers',\n",
       " 'herself',\n",
       " \"he's\",\n",
       " 'him',\n",
       " 'himself',\n",
       " 'his',\n",
       " 'how',\n",
       " 'i',\n",
       " \"i'd\",\n",
       " 'if',\n",
       " \"i'll\",\n",
       " \"i'm\",\n",
       " 'in',\n",
       " 'into',\n",
       " 'is',\n",
       " 'isn',\n",
       " \"isn't\",\n",
       " 'it',\n",
       " \"it'd\",\n",
       " \"it'll\",\n",
       " \"it's\",\n",
       " 'its',\n",
       " 'itself',\n",
       " \"i've\",\n",
       " 'just',\n",
       " 'll',\n",
       " 'm',\n",
       " 'ma',\n",
       " 'me',\n",
       " 'mightn',\n",
       " \"mightn't\",\n",
       " 'more',\n",
       " 'most',\n",
       " 'mustn',\n",
       " \"mustn't\",\n",
       " 'my',\n",
       " 'myself',\n",
       " 'needn',\n",
       " \"needn't\",\n",
       " 'no',\n",
       " 'nor',\n",
       " 'not',\n",
       " 'now',\n",
       " 'o',\n",
       " 'of',\n",
       " 'off',\n",
       " 'on',\n",
       " 'once',\n",
       " 'only',\n",
       " 'or',\n",
       " 'other',\n",
       " 'our',\n",
       " 'ours',\n",
       " 'ourselves',\n",
       " 'out',\n",
       " 'over',\n",
       " 'own',\n",
       " 're',\n",
       " 's',\n",
       " 'same',\n",
       " 'shan',\n",
       " \"shan't\",\n",
       " 'she',\n",
       " \"she'd\",\n",
       " \"she'll\",\n",
       " \"she's\",\n",
       " 'should',\n",
       " 'shouldn',\n",
       " \"shouldn't\",\n",
       " \"should've\",\n",
       " 'so',\n",
       " 'some',\n",
       " 'such',\n",
       " 't',\n",
       " 'than',\n",
       " 'that',\n",
       " \"that'll\",\n",
       " 'the',\n",
       " 'their',\n",
       " 'theirs',\n",
       " 'them',\n",
       " 'themselves',\n",
       " 'then',\n",
       " 'there',\n",
       " 'these',\n",
       " 'they',\n",
       " \"they'd\",\n",
       " \"they'll\",\n",
       " \"they're\",\n",
       " \"they've\",\n",
       " 'this',\n",
       " 'those',\n",
       " 'through',\n",
       " 'to',\n",
       " 'too',\n",
       " 'under',\n",
       " 'until',\n",
       " 'up',\n",
       " 've',\n",
       " 'very',\n",
       " 'was',\n",
       " 'wasn',\n",
       " \"wasn't\",\n",
       " 'we',\n",
       " \"we'd\",\n",
       " \"we'll\",\n",
       " \"we're\",\n",
       " 'were',\n",
       " 'weren',\n",
       " \"weren't\",\n",
       " \"we've\",\n",
       " 'what',\n",
       " 'when',\n",
       " 'where',\n",
       " 'which',\n",
       " 'while',\n",
       " 'who',\n",
       " 'whom',\n",
       " 'why',\n",
       " 'will',\n",
       " 'with',\n",
       " 'won',\n",
       " \"won't\",\n",
       " 'wouldn',\n",
       " \"wouldn't\",\n",
       " 'y',\n",
       " 'you',\n",
       " \"you'd\",\n",
       " \"you'll\",\n",
       " 'your',\n",
       " \"you're\",\n",
       " 'yours',\n",
       " 'yourself',\n",
       " 'yourselves',\n",
       " \"you've\"]"
      ]
     },
     "execution_count": 61,
     "metadata": {},
     "output_type": "execute_result"
    }
   ],
   "source": [
    "stop_words"
   ]
  },
  {
   "cell_type": "code",
   "execution_count": 62,
   "id": "e10cb0d7-1d65-4721-ad47-e4029420a21f",
   "metadata": {},
   "outputs": [],
   "source": [
    "# Token to Feature"
   ]
  },
  {
   "cell_type": "code",
   "execution_count": 63,
   "id": "66e717f0-d1e6-4789-ae53-24a82b6b9454",
   "metadata": {},
   "outputs": [],
   "source": [
    "# Count Vectorizer"
   ]
  },
  {
   "cell_type": "code",
   "execution_count": 64,
   "id": "d496dfcc-d2ce-482f-97d7-a65d0d062113",
   "metadata": {},
   "outputs": [],
   "source": [
    "from sklearn.feature_extraction.text import CountVectorizer"
   ]
  },
  {
   "cell_type": "code",
   "execution_count": 65,
   "id": "f6dd8ab9-7f09-4f31-a146-7632ae53561a",
   "metadata": {},
   "outputs": [],
   "source": [
    "cv = CountVectorizer(binary=True, ngram_range=(1, 2))"
   ]
  },
  {
   "cell_type": "code",
   "execution_count": 66,
   "id": "6b4c17a0-1f6f-4c69-ad7a-66bbe7308f14",
   "metadata": {},
   "outputs": [
    {
     "name": "stdout",
     "output_type": "stream",
     "text": [
      "['professor', 'muhammad', 'yunu', 'born', 'june', '28', '1940']\n",
      "['founder', 'manag', 'director', 'grameen', 'bank', 'pioneer', 'microcredit']\n",
      "['method', 'bank', 'small', 'loan', 'given', 'poor', 'mostli', 'women', 'without', 'collater', 'incom', 'gener', 'activ', 'help', 'get', 'poverti']\n",
      "['third', 'nine', 'children', 'prof', 'yunu', 'born', 'villag', 'bathua', 'chittagong']\n",
      "['father', 'haji', 'muhammad', 'dula', 'mia', 'shawdagar', 'jewel', 'mother', 'sofia', 'khatun']\n"
     ]
    }
   ],
   "source": [
    "corpus = []\n",
    "for i in range(len(sentences)):\n",
    "    text = re.sub('[^a-zA-Z0-9]', ' ', sentences[i])\n",
    "    text = text.lower()\n",
    "    words = text.split()\n",
    "    words = [stemmer.stem(word) for word in words if not word in stop_words]\n",
    "    print(words)\n",
    "    corpus.append(' '.join(words))"
   ]
  },
  {
   "cell_type": "code",
   "execution_count": 67,
   "id": "a25e3274-1a25-4452-857f-01a5bc29180e",
   "metadata": {},
   "outputs": [],
   "source": [
    "# applies Bag of Words"
   ]
  },
  {
   "cell_type": "code",
   "execution_count": 68,
   "id": "c998b3a1-bb5b-4f09-9343-3e9e0bd71141",
   "metadata": {},
   "outputs": [],
   "source": [
    "X = cv.fit_transform(corpus)"
   ]
  },
  {
   "cell_type": "code",
   "execution_count": 69,
   "id": "29aa5e8f-40de-4cfb-938b-0134b9c54661",
   "metadata": {},
   "outputs": [
    {
     "name": "stdout",
     "output_type": "stream",
     "text": [
      "<Compressed Sparse Row sparse matrix of dtype 'int64'\n",
      "\twith 93 stored elements and shape (5, 88)>\n",
      "  Coords\tValues\n",
      "  (0, 70)\t1\n",
      "  (0, 58)\t1\n",
      "  (0, 86)\t1\n",
      "  (0, 10)\t1\n",
      "  (0, 42)\t1\n",
      "  (0, 1)\t1\n",
      "  (0, 0)\t1\n",
      "  (0, 71)\t1\n",
      "  (0, 60)\t1\n",
      "  (0, 87)\t1\n",
      "  (0, 11)\t1\n",
      "  (0, 43)\t1\n",
      "  (0, 2)\t1\n",
      "  (1, 24)\t1\n",
      "  (1, 47)\t1\n",
      "  (1, 18)\t1\n",
      "  (1, 32)\t1\n",
      "  (1, 5)\t1\n",
      "  (1, 63)\t1\n",
      "  (1, 53)\t1\n",
      "  (1, 25)\t1\n",
      "  (1, 48)\t1\n",
      "  (1, 19)\t1\n",
      "  (1, 33)\t1\n",
      "  (1, 6)\t1\n",
      "  :\t:\n",
      "  (3, 62)\t1\n",
      "  (3, 14)\t1\n",
      "  (3, 69)\t1\n",
      "  (3, 12)\t1\n",
      "  (3, 81)\t1\n",
      "  (3, 9)\t1\n",
      "  (4, 58)\t1\n",
      "  (4, 22)\t1\n",
      "  (4, 34)\t1\n",
      "  (4, 20)\t1\n",
      "  (4, 51)\t1\n",
      "  (4, 72)\t1\n",
      "  (4, 40)\t1\n",
      "  (4, 56)\t1\n",
      "  (4, 76)\t1\n",
      "  (4, 44)\t1\n",
      "  (4, 23)\t1\n",
      "  (4, 35)\t1\n",
      "  (4, 59)\t1\n",
      "  (4, 21)\t1\n",
      "  (4, 52)\t1\n",
      "  (4, 73)\t1\n",
      "  (4, 41)\t1\n",
      "  (4, 57)\t1\n",
      "  (4, 77)\t1\n"
     ]
    }
   ],
   "source": [
    "print(X)"
   ]
  },
  {
   "cell_type": "code",
   "execution_count": 70,
   "id": "2f93d415-e57c-4e57-b803-bf47c1eeb4b1",
   "metadata": {},
   "outputs": [
    {
     "data": {
      "text/plain": [
       "{'professor': 70,\n",
       " 'muhammad': 58,\n",
       " 'yunu': 86,\n",
       " 'born': 10,\n",
       " 'june': 42,\n",
       " '28': 1,\n",
       " '1940': 0,\n",
       " 'professor muhammad': 71,\n",
       " 'muhammad yunu': 60,\n",
       " 'yunu born': 87,\n",
       " 'born june': 11,\n",
       " 'june 28': 43,\n",
       " '28 1940': 2,\n",
       " 'founder': 24,\n",
       " 'manag': 47,\n",
       " 'director': 18,\n",
       " 'grameen': 32,\n",
       " 'bank': 5,\n",
       " 'pioneer': 63,\n",
       " 'microcredit': 53,\n",
       " 'founder manag': 25,\n",
       " 'manag director': 48,\n",
       " 'director grameen': 19,\n",
       " 'grameen bank': 33,\n",
       " 'bank pioneer': 6,\n",
       " 'pioneer microcredit': 64,\n",
       " 'method': 49,\n",
       " 'small': 74,\n",
       " 'loan': 45,\n",
       " 'given': 30,\n",
       " 'poor': 65,\n",
       " 'mostli': 54,\n",
       " 'women': 84,\n",
       " 'without': 82,\n",
       " 'collater': 16,\n",
       " 'incom': 38,\n",
       " 'gener': 26,\n",
       " 'activ': 3,\n",
       " 'help': 36,\n",
       " 'get': 28,\n",
       " 'poverti': 67,\n",
       " 'method bank': 50,\n",
       " 'bank small': 7,\n",
       " 'small loan': 75,\n",
       " 'loan given': 46,\n",
       " 'given poor': 31,\n",
       " 'poor mostli': 66,\n",
       " 'mostli women': 55,\n",
       " 'women without': 85,\n",
       " 'without collater': 83,\n",
       " 'collater incom': 17,\n",
       " 'incom gener': 39,\n",
       " 'gener activ': 27,\n",
       " 'activ help': 4,\n",
       " 'help get': 37,\n",
       " 'get poverti': 29,\n",
       " 'third': 78,\n",
       " 'nine': 61,\n",
       " 'children': 13,\n",
       " 'prof': 68,\n",
       " 'villag': 80,\n",
       " 'bathua': 8,\n",
       " 'chittagong': 15,\n",
       " 'third nine': 79,\n",
       " 'nine children': 62,\n",
       " 'children prof': 14,\n",
       " 'prof yunu': 69,\n",
       " 'born villag': 12,\n",
       " 'villag bathua': 81,\n",
       " 'bathua chittagong': 9,\n",
       " 'father': 22,\n",
       " 'haji': 34,\n",
       " 'dula': 20,\n",
       " 'mia': 51,\n",
       " 'shawdagar': 72,\n",
       " 'jewel': 40,\n",
       " 'mother': 56,\n",
       " 'sofia': 76,\n",
       " 'khatun': 44,\n",
       " 'father haji': 23,\n",
       " 'haji muhammad': 35,\n",
       " 'muhammad dula': 59,\n",
       " 'dula mia': 21,\n",
       " 'mia shawdagar': 52,\n",
       " 'shawdagar jewel': 73,\n",
       " 'jewel mother': 41,\n",
       " 'mother sofia': 57,\n",
       " 'sofia khatun': 77}"
      ]
     },
     "execution_count": 70,
     "metadata": {},
     "output_type": "execute_result"
    }
   ],
   "source": [
    "cv.vocabulary_"
   ]
  },
  {
   "cell_type": "code",
   "execution_count": 71,
   "id": "e7302e9c-4148-452a-8206-b39996be8b1d",
   "metadata": {},
   "outputs": [
    {
     "name": "stdout",
     "output_type": "stream",
     "text": [
      "Unique word list: \n",
      " ['1940' '28' '28 1940' 'activ' 'activ help' 'bank' 'bank pioneer'\n",
      " 'bank small' 'bathua' 'bathua chittagong' 'born' 'born june'\n",
      " 'born villag' 'children' 'children prof' 'chittagong' 'collater'\n",
      " 'collater incom' 'director' 'director grameen' 'dula' 'dula mia' 'father'\n",
      " 'father haji' 'founder' 'founder manag' 'gener' 'gener activ' 'get'\n",
      " 'get poverti' 'given' 'given poor' 'grameen' 'grameen bank' 'haji'\n",
      " 'haji muhammad' 'help' 'help get' 'incom' 'incom gener' 'jewel'\n",
      " 'jewel mother' 'june' 'june 28' 'khatun' 'loan' 'loan given' 'manag'\n",
      " 'manag director' 'method' 'method bank' 'mia' 'mia shawdagar'\n",
      " 'microcredit' 'mostli' 'mostli women' 'mother' 'mother sofia' 'muhammad'\n",
      " 'muhammad dula' 'muhammad yunu' 'nine' 'nine children' 'pioneer'\n",
      " 'pioneer microcredit' 'poor' 'poor mostli' 'poverti' 'prof' 'prof yunu'\n",
      " 'professor' 'professor muhammad' 'shawdagar' 'shawdagar jewel' 'small'\n",
      " 'small loan' 'sofia' 'sofia khatun' 'third' 'third nine' 'villag'\n",
      " 'villag bathua' 'without' 'without collater' 'women' 'women without'\n",
      " 'yunu' 'yunu born']\n",
      "Bag of words matrix: \n",
      " [[1 1 1 0 0 0 0 0 0 0 1 1 0 0 0 0 0 0 0 0 0 0 0 0 0 0 0 0 0 0 0 0 0 0 0 0\n",
      "  0 0 0 0 0 0 1 1 0 0 0 0 0 0 0 0 0 0 0 0 0 0 1 0 1 0 0 0 0 0 0 0 0 0 1 1\n",
      "  0 0 0 0 0 0 0 0 0 0 0 0 0 0 1 1]\n",
      " [0 0 0 0 0 1 1 0 0 0 0 0 0 0 0 0 0 0 1 1 0 0 0 0 1 1 0 0 0 0 0 0 1 1 0 0\n",
      "  0 0 0 0 0 0 0 0 0 0 0 1 1 0 0 0 0 1 0 0 0 0 0 0 0 0 0 1 1 0 0 0 0 0 0 0\n",
      "  0 0 0 0 0 0 0 0 0 0 0 0 0 0 0 0]\n",
      " [0 0 0 1 1 1 0 1 0 0 0 0 0 0 0 0 1 1 0 0 0 0 0 0 0 0 1 1 1 1 1 1 0 0 0 0\n",
      "  1 1 1 1 0 0 0 0 0 1 1 0 0 1 1 0 0 0 1 1 0 0 0 0 0 0 0 0 0 1 1 1 0 0 0 0\n",
      "  0 0 1 1 0 0 0 0 0 0 1 1 1 1 0 0]\n",
      " [0 0 0 0 0 0 0 0 1 1 1 0 1 1 1 1 0 0 0 0 0 0 0 0 0 0 0 0 0 0 0 0 0 0 0 0\n",
      "  0 0 0 0 0 0 0 0 0 0 0 0 0 0 0 0 0 0 0 0 0 0 0 0 0 1 1 0 0 0 0 0 1 1 0 0\n",
      "  0 0 0 0 0 0 1 1 1 1 0 0 0 0 1 1]\n",
      " [0 0 0 0 0 0 0 0 0 0 0 0 0 0 0 0 0 0 0 0 1 1 1 1 0 0 0 0 0 0 0 0 0 0 1 1\n",
      "  0 0 0 0 1 1 0 0 1 0 0 0 0 0 0 1 1 0 0 0 1 1 1 1 0 0 0 0 0 0 0 0 0 0 0 0\n",
      "  1 1 0 0 1 1 0 0 0 0 0 0 0 0 0 0]]\n",
      "                                                    1940  28  28 1940  activ  \\\n",
      "professor muhammad yunu born june 28 1940              1   1        1      0   \n",
      "founder manag director grameen bank pioneer mic...     0   0        0      0   \n",
      "method bank small loan given poor mostli women ...     0   0        0      1   \n",
      "third nine children prof yunu born villag bathu...     0   0        0      0   \n",
      "father haji muhammad dula mia shawdagar jewel m...     0   0        0      0   \n",
      "\n",
      "                                                    activ help  bank  \\\n",
      "professor muhammad yunu born june 28 1940                    0     0   \n",
      "founder manag director grameen bank pioneer mic...           0     1   \n",
      "method bank small loan given poor mostli women ...           1     1   \n",
      "third nine children prof yunu born villag bathu...           0     0   \n",
      "father haji muhammad dula mia shawdagar jewel m...           0     0   \n",
      "\n",
      "                                                    bank pioneer  bank small  \\\n",
      "professor muhammad yunu born june 28 1940                      0           0   \n",
      "founder manag director grameen bank pioneer mic...             1           0   \n",
      "method bank small loan given poor mostli women ...             0           1   \n",
      "third nine children prof yunu born villag bathu...             0           0   \n",
      "father haji muhammad dula mia shawdagar jewel m...             0           0   \n",
      "\n",
      "                                                    bathua  bathua chittagong  \\\n",
      "professor muhammad yunu born june 28 1940                0                  0   \n",
      "founder manag director grameen bank pioneer mic...       0                  0   \n",
      "method bank small loan given poor mostli women ...       0                  0   \n",
      "third nine children prof yunu born villag bathu...       1                  1   \n",
      "father haji muhammad dula mia shawdagar jewel m...       0                  0   \n",
      "\n",
      "                                                    ...  third  third nine  \\\n",
      "professor muhammad yunu born june 28 1940           ...      0           0   \n",
      "founder manag director grameen bank pioneer mic...  ...      0           0   \n",
      "method bank small loan given poor mostli women ...  ...      0           0   \n",
      "third nine children prof yunu born villag bathu...  ...      1           1   \n",
      "father haji muhammad dula mia shawdagar jewel m...  ...      0           0   \n",
      "\n",
      "                                                    villag  villag bathua  \\\n",
      "professor muhammad yunu born june 28 1940                0              0   \n",
      "founder manag director grameen bank pioneer mic...       0              0   \n",
      "method bank small loan given poor mostli women ...       0              0   \n",
      "third nine children prof yunu born villag bathu...       1              1   \n",
      "father haji muhammad dula mia shawdagar jewel m...       0              0   \n",
      "\n",
      "                                                    without  without collater  \\\n",
      "professor muhammad yunu born june 28 1940                 0                 0   \n",
      "founder manag director grameen bank pioneer mic...        0                 0   \n",
      "method bank small loan given poor mostli women ...        1                 1   \n",
      "third nine children prof yunu born villag bathu...        0                 0   \n",
      "father haji muhammad dula mia shawdagar jewel m...        0                 0   \n",
      "\n",
      "                                                    women  women without  \\\n",
      "professor muhammad yunu born june 28 1940               0              0   \n",
      "founder manag director grameen bank pioneer mic...      0              0   \n",
      "method bank small loan given poor mostli women ...      1              1   \n",
      "third nine children prof yunu born villag bathu...      0              0   \n",
      "father haji muhammad dula mia shawdagar jewel m...      0              0   \n",
      "\n",
      "                                                    yunu  yunu born  \n",
      "professor muhammad yunu born june 28 1940              1          1  \n",
      "founder manag director grameen bank pioneer mic...     0          0  \n",
      "method bank small loan given poor mostli women ...     0          0  \n",
      "third nine children prof yunu born villag bathu...     1          1  \n",
      "father haji muhammad dula mia shawdagar jewel m...     0          0  \n",
      "\n",
      "[5 rows x 88 columns]\n"
     ]
    }
   ],
   "source": [
    "import pandas as pd\n",
    "\n",
    "feature_names = cv.get_feature_names_out()\n",
    "x_array = X.toarray()\n",
    "\n",
    "print(\"Unique word list: \\n\",feature_names)\n",
    "print(\"Bag of words matrix: \\n\",x_array)\n",
    "\n",
    "df = pd.DataFrame(data=x_array, columns=feature_names, index=corpus)\n",
    "print(df)"
   ]
  },
  {
   "cell_type": "code",
   "execution_count": 72,
   "id": "d6fa9af6-b6d2-4b8b-8df8-0b3dec1fd0c1",
   "metadata": {},
   "outputs": [],
   "source": [
    "# TF-IDF Vectorizer"
   ]
  },
  {
   "cell_type": "code",
   "execution_count": 73,
   "id": "ad823734-6233-499c-8f66-43f78f857649",
   "metadata": {},
   "outputs": [],
   "source": [
    "from sklearn.feature_extraction.text import TfidfVectorizer"
   ]
  },
  {
   "cell_type": "code",
   "execution_count": 74,
   "id": "b2a3b79f-936d-4166-b6a7-7131f3c6eed1",
   "metadata": {},
   "outputs": [],
   "source": [
    "tf_idf = TfidfVectorizer()"
   ]
  },
  {
   "cell_type": "code",
   "execution_count": 75,
   "id": "bcb4c513-17df-41a6-9c82-550becd92247",
   "metadata": {},
   "outputs": [],
   "source": [
    "x = tf_idf.fit_transform(corpus)"
   ]
  },
  {
   "cell_type": "code",
   "execution_count": 76,
   "id": "34412244-36fb-413a-a83d-9203ed15096c",
   "metadata": {},
   "outputs": [
    {
     "name": "stdout",
     "output_type": "stream",
     "text": [
      "<Compressed Sparse Row sparse matrix of dtype 'float64'\n",
      "\twith 49 stored elements and shape (5, 45)>\n",
      "  Coords\tValues\n",
      "  (0, 36)\t0.40986538560224284\n",
      "  (0, 30)\t0.33067681238156543\n",
      "  (0, 44)\t0.33067681238156543\n",
      "  (0, 5)\t0.33067681238156543\n",
      "  (0, 21)\t0.40986538560224284\n",
      "  (0, 1)\t0.40986538560224284\n",
      "  (0, 0)\t0.40986538560224284\n",
      "  (1, 12)\t0.38775666010579296\n",
      "  (1, 24)\t0.38775666010579296\n",
      "  (1, 9)\t0.38775666010579296\n",
      "  (1, 16)\t0.38775666010579296\n",
      "  (1, 3)\t0.3128396318588854\n",
      "  (1, 32)\t0.38775666010579296\n",
      "  (1, 27)\t0.38775666010579296\n",
      "  (2, 3)\t0.20393539986751064\n",
      "  (2, 25)\t0.2527726716084208\n",
      "  (2, 38)\t0.2527726716084208\n",
      "  (2, 23)\t0.2527726716084208\n",
      "  (2, 15)\t0.2527726716084208\n",
      "  (2, 33)\t0.2527726716084208\n",
      "  (2, 28)\t0.2527726716084208\n",
      "  (2, 43)\t0.2527726716084208\n",
      "  (2, 42)\t0.2527726716084208\n",
      "  (2, 8)\t0.2527726716084208\n",
      "  (2, 19)\t0.2527726716084208\n",
      "  (2, 13)\t0.2527726716084208\n",
      "  (2, 2)\t0.2527726716084208\n",
      "  (2, 18)\t0.2527726716084208\n",
      "  (2, 14)\t0.2527726716084208\n",
      "  (2, 34)\t0.2527726716084208\n",
      "  (3, 44)\t0.28001127926354535\n",
      "  (3, 5)\t0.28001127926354535\n",
      "  (3, 40)\t0.34706676322953556\n",
      "  (3, 31)\t0.34706676322953556\n",
      "  (3, 6)\t0.34706676322953556\n",
      "  (3, 35)\t0.34706676322953556\n",
      "  (3, 41)\t0.34706676322953556\n",
      "  (3, 4)\t0.34706676322953556\n",
      "  (3, 7)\t0.34706676322953556\n",
      "  (4, 30)\t0.2597037559047736\n",
      "  (4, 11)\t0.3218961114619563\n",
      "  (4, 17)\t0.3218961114619563\n",
      "  (4, 10)\t0.3218961114619563\n",
      "  (4, 26)\t0.3218961114619563\n",
      "  (4, 37)\t0.3218961114619563\n",
      "  (4, 20)\t0.3218961114619563\n",
      "  (4, 29)\t0.3218961114619563\n",
      "  (4, 39)\t0.3218961114619563\n",
      "  (4, 22)\t0.3218961114619563\n"
     ]
    }
   ],
   "source": [
    "print(x)"
   ]
  },
  {
   "cell_type": "code",
   "execution_count": 77,
   "id": "2f03fdfe-b247-43ef-9dd1-888a91456c0f",
   "metadata": {},
   "outputs": [
    {
     "data": {
      "text/plain": [
       "{'professor': 36,\n",
       " 'muhammad': 30,\n",
       " 'yunu': 44,\n",
       " 'born': 5,\n",
       " 'june': 21,\n",
       " '28': 1,\n",
       " '1940': 0,\n",
       " 'founder': 12,\n",
       " 'manag': 24,\n",
       " 'director': 9,\n",
       " 'grameen': 16,\n",
       " 'bank': 3,\n",
       " 'pioneer': 32,\n",
       " 'microcredit': 27,\n",
       " 'method': 25,\n",
       " 'small': 38,\n",
       " 'loan': 23,\n",
       " 'given': 15,\n",
       " 'poor': 33,\n",
       " 'mostli': 28,\n",
       " 'women': 43,\n",
       " 'without': 42,\n",
       " 'collater': 8,\n",
       " 'incom': 19,\n",
       " 'gener': 13,\n",
       " 'activ': 2,\n",
       " 'help': 18,\n",
       " 'get': 14,\n",
       " 'poverti': 34,\n",
       " 'third': 40,\n",
       " 'nine': 31,\n",
       " 'children': 6,\n",
       " 'prof': 35,\n",
       " 'villag': 41,\n",
       " 'bathua': 4,\n",
       " 'chittagong': 7,\n",
       " 'father': 11,\n",
       " 'haji': 17,\n",
       " 'dula': 10,\n",
       " 'mia': 26,\n",
       " 'shawdagar': 37,\n",
       " 'jewel': 20,\n",
       " 'mother': 29,\n",
       " 'sofia': 39,\n",
       " 'khatun': 22}"
      ]
     },
     "execution_count": 77,
     "metadata": {},
     "output_type": "execute_result"
    }
   ],
   "source": [
    "tf_idf.vocabulary_"
   ]
  },
  {
   "cell_type": "code",
   "execution_count": 79,
   "id": "80fe5583-dfa9-4bfe-a269-47e23286ae74",
   "metadata": {},
   "outputs": [
    {
     "name": "stdout",
     "output_type": "stream",
     "text": [
      "Unique word list: \n",
      " ['1940' '28' 'activ' 'bank' 'bathua' 'born' 'children' 'chittagong'\n",
      " 'collater' 'director' 'dula' 'father' 'founder' 'gener' 'get' 'given'\n",
      " 'grameen' 'haji' 'help' 'incom' 'jewel' 'june' 'khatun' 'loan' 'manag'\n",
      " 'method' 'mia' 'microcredit' 'mostli' 'mother' 'muhammad' 'nine'\n",
      " 'pioneer' 'poor' 'poverti' 'prof' 'professor' 'shawdagar' 'small' 'sofia'\n",
      " 'third' 'villag' 'without' 'women' 'yunu']\n",
      "Bag of Words Matrix: \n",
      " [[0.40986539 0.40986539 0.         0.         0.         0.33067681\n",
      "  0.         0.         0.         0.         0.         0.\n",
      "  0.         0.         0.         0.         0.         0.\n",
      "  0.         0.         0.         0.40986539 0.         0.\n",
      "  0.         0.         0.         0.         0.         0.\n",
      "  0.33067681 0.         0.         0.         0.         0.\n",
      "  0.40986539 0.         0.         0.         0.         0.\n",
      "  0.         0.         0.33067681]\n",
      " [0.         0.         0.         0.31283963 0.         0.\n",
      "  0.         0.         0.         0.38775666 0.         0.\n",
      "  0.38775666 0.         0.         0.         0.38775666 0.\n",
      "  0.         0.         0.         0.         0.         0.\n",
      "  0.38775666 0.         0.         0.38775666 0.         0.\n",
      "  0.         0.         0.38775666 0.         0.         0.\n",
      "  0.         0.         0.         0.         0.         0.\n",
      "  0.         0.         0.        ]\n",
      " [0.         0.         0.25277267 0.2039354  0.         0.\n",
      "  0.         0.         0.25277267 0.         0.         0.\n",
      "  0.         0.25277267 0.25277267 0.25277267 0.         0.\n",
      "  0.25277267 0.25277267 0.         0.         0.         0.25277267\n",
      "  0.         0.25277267 0.         0.         0.25277267 0.\n",
      "  0.         0.         0.         0.25277267 0.25277267 0.\n",
      "  0.         0.         0.25277267 0.         0.         0.\n",
      "  0.25277267 0.25277267 0.        ]\n",
      " [0.         0.         0.         0.         0.34706676 0.28001128\n",
      "  0.34706676 0.34706676 0.         0.         0.         0.\n",
      "  0.         0.         0.         0.         0.         0.\n",
      "  0.         0.         0.         0.         0.         0.\n",
      "  0.         0.         0.         0.         0.         0.\n",
      "  0.         0.34706676 0.         0.         0.         0.34706676\n",
      "  0.         0.         0.         0.         0.34706676 0.34706676\n",
      "  0.         0.         0.28001128]\n",
      " [0.         0.         0.         0.         0.         0.\n",
      "  0.         0.         0.         0.         0.32189611 0.32189611\n",
      "  0.         0.         0.         0.         0.         0.32189611\n",
      "  0.         0.         0.32189611 0.         0.32189611 0.\n",
      "  0.         0.         0.32189611 0.         0.         0.32189611\n",
      "  0.25970376 0.         0.         0.         0.         0.\n",
      "  0.         0.32189611 0.         0.32189611 0.         0.\n",
      "  0.         0.         0.        ]]\n",
      "                                                        1940        28  \\\n",
      "professor muhammad yunu born june 28 1940           0.409865  0.409865   \n",
      "founder manag director grameen bank pioneer mic...  0.000000  0.000000   \n",
      "method bank small loan given poor mostli women ...  0.000000  0.000000   \n",
      "third nine children prof yunu born villag bathu...  0.000000  0.000000   \n",
      "father haji muhammad dula mia shawdagar jewel m...  0.000000  0.000000   \n",
      "\n",
      "                                                       activ      bank  \\\n",
      "professor muhammad yunu born june 28 1940           0.000000  0.000000   \n",
      "founder manag director grameen bank pioneer mic...  0.000000  0.312840   \n",
      "method bank small loan given poor mostli women ...  0.252773  0.203935   \n",
      "third nine children prof yunu born villag bathu...  0.000000  0.000000   \n",
      "father haji muhammad dula mia shawdagar jewel m...  0.000000  0.000000   \n",
      "\n",
      "                                                      bathua      born  \\\n",
      "professor muhammad yunu born june 28 1940           0.000000  0.330677   \n",
      "founder manag director grameen bank pioneer mic...  0.000000  0.000000   \n",
      "method bank small loan given poor mostli women ...  0.000000  0.000000   \n",
      "third nine children prof yunu born villag bathu...  0.347067  0.280011   \n",
      "father haji muhammad dula mia shawdagar jewel m...  0.000000  0.000000   \n",
      "\n",
      "                                                    children  chittagong  \\\n",
      "professor muhammad yunu born june 28 1940           0.000000    0.000000   \n",
      "founder manag director grameen bank pioneer mic...  0.000000    0.000000   \n",
      "method bank small loan given poor mostli women ...  0.000000    0.000000   \n",
      "third nine children prof yunu born villag bathu...  0.347067    0.347067   \n",
      "father haji muhammad dula mia shawdagar jewel m...  0.000000    0.000000   \n",
      "\n",
      "                                                    collater  director  ...  \\\n",
      "professor muhammad yunu born june 28 1940           0.000000  0.000000  ...   \n",
      "founder manag director grameen bank pioneer mic...  0.000000  0.387757  ...   \n",
      "method bank small loan given poor mostli women ...  0.252773  0.000000  ...   \n",
      "third nine children prof yunu born villag bathu...  0.000000  0.000000  ...   \n",
      "father haji muhammad dula mia shawdagar jewel m...  0.000000  0.000000  ...   \n",
      "\n",
      "                                                        prof  professor  \\\n",
      "professor muhammad yunu born june 28 1940           0.000000   0.409865   \n",
      "founder manag director grameen bank pioneer mic...  0.000000   0.000000   \n",
      "method bank small loan given poor mostli women ...  0.000000   0.000000   \n",
      "third nine children prof yunu born villag bathu...  0.347067   0.000000   \n",
      "father haji muhammad dula mia shawdagar jewel m...  0.000000   0.000000   \n",
      "\n",
      "                                                    shawdagar     small  \\\n",
      "professor muhammad yunu born june 28 1940            0.000000  0.000000   \n",
      "founder manag director grameen bank pioneer mic...   0.000000  0.000000   \n",
      "method bank small loan given poor mostli women ...   0.000000  0.252773   \n",
      "third nine children prof yunu born villag bathu...   0.000000  0.000000   \n",
      "father haji muhammad dula mia shawdagar jewel m...   0.321896  0.000000   \n",
      "\n",
      "                                                       sofia     third  \\\n",
      "professor muhammad yunu born june 28 1940           0.000000  0.000000   \n",
      "founder manag director grameen bank pioneer mic...  0.000000  0.000000   \n",
      "method bank small loan given poor mostli women ...  0.000000  0.000000   \n",
      "third nine children prof yunu born villag bathu...  0.000000  0.347067   \n",
      "father haji muhammad dula mia shawdagar jewel m...  0.321896  0.000000   \n",
      "\n",
      "                                                      villag   without  \\\n",
      "professor muhammad yunu born june 28 1940           0.000000  0.000000   \n",
      "founder manag director grameen bank pioneer mic...  0.000000  0.000000   \n",
      "method bank small loan given poor mostli women ...  0.000000  0.252773   \n",
      "third nine children prof yunu born villag bathu...  0.347067  0.000000   \n",
      "father haji muhammad dula mia shawdagar jewel m...  0.000000  0.000000   \n",
      "\n",
      "                                                       women      yunu  \n",
      "professor muhammad yunu born june 28 1940           0.000000  0.330677  \n",
      "founder manag director grameen bank pioneer mic...  0.000000  0.000000  \n",
      "method bank small loan given poor mostli women ...  0.252773  0.000000  \n",
      "third nine children prof yunu born villag bathu...  0.000000  0.280011  \n",
      "father haji muhammad dula mia shawdagar jewel m...  0.000000  0.000000  \n",
      "\n",
      "[5 rows x 45 columns]\n"
     ]
    }
   ],
   "source": [
    "feature_names = tf_idf.get_feature_names_out()\n",
    "x_array = x.toarray()\n",
    "\n",
    "print(\"Unique word list: \\n\", feature_names)\n",
    "print(\"Bag of Words Matrix: \\n\", x_array)\n",
    "\n",
    "df = pd.DataFrame(data=x_array, columns=feature_names, index=corpus)\n",
    "print(df)"
   ]
  },
  {
   "cell_type": "markdown",
   "id": "a0038ac7-45db-4ee1-8772-ca2cd3baa96a",
   "metadata": {},
   "source": [
    "# Sentiment Analysis using TF-IDF features and Neural Network MLP (instead of Logistic Regression)"
   ]
  },
  {
   "cell_type": "code",
   "execution_count": 136,
   "id": "c879bdb1-13cb-42a1-b9be-73efbb27a51d",
   "metadata": {},
   "outputs": [],
   "source": [
    "import kagglehub\n",
    "import pandas as pd\n",
    "import numpy as np\n",
    "from sklearn.model_selection import train_test_split\n",
    "from sklearn.feature_extraction.text import CountVectorizer\n",
    "from sklearn.preprocessing import LabelEncoder\n",
    "from tensorflow.keras.models import Sequential\n",
    "from tensorflow.keras.layers import Dense, Dropout\n",
    "from tensorflow.keras.callbacks import EarlyStopping\n"
   ]
  },
  {
   "cell_type": "code",
   "execution_count": 137,
   "id": "fe6c7f62-c832-417f-9f87-707438255b55",
   "metadata": {},
   "outputs": [
    {
     "name": "stdout",
     "output_type": "stream",
     "text": [
      "                                              review sentiment\n",
      "0  One of the other reviewers has mentioned that ...  positive\n",
      "1  A wonderful little production. <br /><br />The...  positive\n",
      "2  I thought this was a wonderful way to spend ti...  positive\n",
      "3  Basically there's a family where a little boy ...  negative\n",
      "4  Petter Mattei's \"Love in the Time of Money\" is...  positive\n"
     ]
    }
   ],
   "source": [
    "# 2.Load Dataset from Kaggle\n",
    "\n",
    "path = kagglehub.dataset_download(\"lakshmi25npathi/imdb-dataset-of-50k-movie-reviews\")\n",
    "\n",
    "# Load CSV\n",
    "df = pd.read_csv(f\"{path}/IMDB Dataset.csv\")\n",
    "print(df.head())\n"
   ]
  },
  {
   "cell_type": "code",
   "execution_count": 138,
   "id": "6914e58c-f66f-40e1-9296-cbfd7823dacd",
   "metadata": {},
   "outputs": [
    {
     "name": "stdout",
     "output_type": "stream",
     "text": [
      "NaN values left:\n",
      " review       0\n",
      "sentiment    0\n",
      "dtype: int64\n"
     ]
    }
   ],
   "source": [
    "# 3.Clean Data\n",
    "# Remove missing or empty reviews\n",
    "df = df.dropna(subset=['review', 'sentiment'])\n",
    "df = df[df['review'].str.strip() != \"\"]\n",
    "\n",
    "print(\"NaN values left:\\n\", df.isna().sum())\n"
   ]
  },
  {
   "cell_type": "code",
   "execution_count": 139,
   "id": "b46e8813-4eb2-4419-b3b8-57aa1a45eaa0",
   "metadata": {},
   "outputs": [],
   "source": [
    "# 4.Encode Sentiments\n",
    "le = LabelEncoder()\n",
    "df['sentiment'] = le.fit_transform(df['sentiment'])  # positive=1, negative=0\n"
   ]
  },
  {
   "cell_type": "code",
   "execution_count": 140,
   "id": "a47f2cb0-aff0-4287-bd9f-701b52b750cd",
   "metadata": {},
   "outputs": [
    {
     "name": "stdout",
     "output_type": "stream",
     "text": [
      "Train size: 40000\n",
      "Test size: 10000\n"
     ]
    }
   ],
   "source": [
    "# 5. Split Data\n",
    "X_train, X_test, y_train, y_test = train_test_split(\n",
    "    df['review'], df['sentiment'],\n",
    "    test_size=0.2,\n",
    "    random_state=42\n",
    ")\n",
    "\n",
    "print(\"Train size:\", len(X_train))\n",
    "print(\"Test size:\", len(X_test))\n"
   ]
  },
  {
   "cell_type": "code",
   "execution_count": 141,
   "id": "72eb2c50-784e-4d33-865f-02d71df5c8f4",
   "metadata": {},
   "outputs": [],
   "source": [
    "# 6. Convert Text to Bag of Words\n",
    "vectorizer = CountVectorizer(max_features=5000, stop_words='english')\n",
    "X_train_vec = vectorizer.fit_transform(X_train).toarray()\n",
    "X_test_vec = vectorizer.transform(X_test).toarray()"
   ]
  },
  {
   "cell_type": "code",
   "execution_count": 142,
   "id": "d7df1d7c-0846-4218-8504-377685da258d",
   "metadata": {},
   "outputs": [
    {
     "name": "stderr",
     "output_type": "stream",
     "text": [
      "C:\\Users\\ASUS\\AppData\\Roaming\\Python\\Python313\\site-packages\\keras\\src\\layers\\core\\dense.py:92: UserWarning: Do not pass an `input_shape`/`input_dim` argument to a layer. When using Sequential models, prefer using an `Input(shape)` object as the first layer in the model instead.\n",
      "  super().__init__(activity_regularizer=activity_regularizer, **kwargs)\n"
     ]
    }
   ],
   "source": [
    "# 7. Build Neural Network\n",
    "model = Sequential([\n",
    "    Dense(128, activation='relu', input_shape=(X_train_vec.shape[1],)),\n",
    "    Dropout(0.3),\n",
    "    Dense(64, activation='relu'),\n",
    "    Dense(1, activation='sigmoid')\n",
    "])\n",
    "\n",
    "model.compile(optimizer='adam', loss='binary_crossentropy', metrics=['accuracy'])\n"
   ]
  },
  {
   "cell_type": "code",
   "execution_count": 143,
   "id": "3c807cd4-0720-4b26-892c-3c3b5a816ab8",
   "metadata": {},
   "outputs": [
    {
     "name": "stdout",
     "output_type": "stream",
     "text": [
      "Epoch 1/6\n",
      "141/141 - 2s - 15ms/step - accuracy: 0.8448 - loss: 0.3725 - val_accuracy: 0.8888 - val_loss: 0.2862\n",
      "Epoch 2/6\n",
      "141/141 - 1s - 8ms/step - accuracy: 0.9119 - loss: 0.2243 - val_accuracy: 0.8805 - val_loss: 0.2905\n",
      "Epoch 3/6\n",
      "141/141 - 1s - 8ms/step - accuracy: 0.9423 - loss: 0.1569 - val_accuracy: 0.8795 - val_loss: 0.3195\n"
     ]
    }
   ],
   "source": [
    "# 8.Train the Model\n",
    "es = EarlyStopping(monitor='val_loss', patience=2, restore_best_weights=True)\n",
    "\n",
    "history = model.fit(\n",
    "    X_train_vec, y_train,\n",
    "    epochs=6,\n",
    "    batch_size=256,\n",
    "    validation_split=0.1,\n",
    "    callbacks=[es],\n",
    "    verbose=2\n",
    ")\n"
   ]
  },
  {
   "cell_type": "code",
   "execution_count": 134,
   "id": "800e86c5-8202-4fe1-bf2b-89bd834fdc08",
   "metadata": {},
   "outputs": [
    {
     "name": "stdout",
     "output_type": "stream",
     "text": [
      "Test Loss: 0.2878 | Test Accuracy: 0.8820\n"
     ]
    }
   ],
   "source": [
    "# 9. Evaluate\n",
    "loss, acc = model.evaluate(X_test_vec, y_test, verbose=0)\n",
    "print(f\"Test Loss: {loss:.4f} | Test Accuracy: {acc:.4f}\")\n"
   ]
  },
  {
   "cell_type": "code",
   "execution_count": 135,
   "id": "f33ead5f-14d1-4761-a7a5-c1ae60e45702",
   "metadata": {},
   "outputs": [
    {
     "name": "stdout",
     "output_type": "stream",
     "text": [
      "\u001b[1m313/313\u001b[0m \u001b[32m━━━━━━━━━━━━━━━━━━━━\u001b[0m\u001b[37m\u001b[0m \u001b[1m0s\u001b[0m 980us/step\n",
      "\n",
      "Classification Report:\n",
      "\n",
      "              precision    recall  f1-score   support\n",
      "\n",
      "           0       0.87      0.90      0.88      4961\n",
      "           1       0.90      0.87      0.88      5039\n",
      "\n",
      "    accuracy                           0.88     10000\n",
      "   macro avg       0.88      0.88      0.88     10000\n",
      "weighted avg       0.88      0.88      0.88     10000\n",
      "\n"
     ]
    }
   ],
   "source": [
    "# 10. Predict & Report\n",
    "\n",
    "from sklearn.metrics import classification_report\n",
    "\n",
    "y_pred = (model.predict(X_test_vec) > 0.5).astype(\"int32\")\n",
    "print(\"\\nClassification Report:\\n\")\n",
    "print(classification_report(y_test, y_pred))\n"
   ]
  },
  {
   "cell_type": "code",
   "execution_count": null,
   "id": "66d24e15-3d65-460f-bdb7-9f40ca6bef57",
   "metadata": {},
   "outputs": [],
   "source": [
    "Accuracy around 88–90%\n",
    "\n",
    "Classification report (Precision, Recall, F1)\n",
    "\n",
    "A working Neural Network trained on Bag of Words features"
   ]
  }
 ],
 "metadata": {
  "kernelspec": {
   "display_name": "Python 3 (ipykernel)",
   "language": "python",
   "name": "python3"
  },
  "language_info": {
   "codemirror_mode": {
    "name": "ipython",
    "version": 3
   },
   "file_extension": ".py",
   "mimetype": "text/x-python",
   "name": "python",
   "nbconvert_exporter": "python",
   "pygments_lexer": "ipython3",
   "version": "3.13.5"
  }
 },
 "nbformat": 4,
 "nbformat_minor": 5
}
